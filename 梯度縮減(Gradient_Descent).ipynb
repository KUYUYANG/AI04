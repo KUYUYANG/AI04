{
  "nbformat": 4,
  "nbformat_minor": 0,
  "metadata": {
    "colab": {
      "provenance": []
    },
    "kernelspec": {
      "name": "python3",
      "display_name": "Python 3"
    },
    "language_info": {
      "name": "python"
    },
    "accelerator": "GPU",
    "gpuClass": "standard"
  },
  "cells": [
    {
      "cell_type": "code",
      "execution_count": null,
      "metadata": {
        "colab": {
          "base_uri": "https://localhost:8080/",
          "height": 925
        },
        "id": "cVOHMDTxtC4c",
        "outputId": "b496f2f2-5854-4d32-bf5f-9a0b59014ace"
      },
      "outputs": [
        {
          "output_type": "stream",
          "name": "stdout",
          "text": [
            "[5.00000000e+00 2.00000000e+00 8.00000000e-01 3.20000000e-01\n",
            " 1.28000000e-01 5.12000000e-02 2.04800000e-02 8.19200000e-03\n",
            " 3.27680000e-03 1.31072000e-03 5.24288000e-04 2.09715200e-04\n",
            " 8.38860800e-05 3.35544320e-05 1.34217728e-05 5.36870912e-06\n",
            " 2.14748365e-06 8.58993459e-07 3.43597384e-07 1.37438953e-07\n",
            " 5.49755814e-08 2.19902326e-08 8.79609302e-09 3.51843721e-09\n",
            " 1.40737488e-09 5.62949953e-10 2.25179981e-10 9.00719925e-11\n",
            " 3.60287970e-11 1.44115188e-11 5.76460752e-12 2.30584301e-12\n",
            " 9.22337204e-13 3.68934881e-13 1.47573953e-13 5.90295810e-14\n",
            " 2.36118324e-14 9.44473297e-15 3.77789319e-15 1.51115727e-15\n",
            " 6.04462910e-16 2.41785164e-16 9.67140656e-17 3.86856262e-17\n",
            " 1.54742505e-17 6.18970020e-18 2.47588008e-18 9.90352031e-19\n",
            " 3.96140813e-19 1.58456325e-19 6.33825300e-20 2.53530120e-20\n",
            " 1.01412048e-20 4.05648192e-21 1.62259277e-21 6.49037107e-22\n",
            " 2.59614843e-22 1.03845937e-22 4.15383749e-23 1.66153499e-23\n",
            " 6.64613998e-24 2.65845599e-24 1.06338240e-24 4.25352959e-25\n",
            " 1.70141183e-25 6.80564734e-26 2.72225894e-26 1.08890357e-26\n",
            " 4.35561430e-27 1.74224572e-27 6.96898287e-28 2.78759315e-28\n",
            " 1.11503726e-28 4.46014904e-29 1.78405962e-29 7.13623846e-30\n",
            " 2.85449539e-30 1.14179815e-30 4.56719262e-31 1.82687705e-31\n",
            " 7.30750819e-32 2.92300327e-32 1.16920131e-32 4.67680524e-33\n",
            " 1.87072210e-33 7.48288838e-34 2.99315535e-34 1.19726214e-34\n",
            " 4.78904857e-35 1.91561943e-35 7.66247770e-36 3.06499108e-36\n",
            " 1.22599643e-36 4.90398573e-37 1.96159429e-37 7.84637717e-38\n",
            " 3.13855087e-38 1.25542035e-38 5.02168139e-39 2.00867256e-39\n",
            " 8.03469022e-40 3.21387609e-40 1.28555044e-40 5.14220174e-41\n",
            " 2.05688070e-41 8.22752279e-42 3.29100911e-42 1.31640365e-42\n",
            " 5.26561458e-43 2.10624583e-43 8.42498333e-44 3.36999333e-44\n",
            " 1.34799733e-44 5.39198933e-45 2.15679573e-45 8.62718293e-46\n",
            " 3.45087317e-46 1.38034927e-46 5.52139708e-47 2.20855883e-47\n",
            " 8.83423532e-48 3.53369413e-48 1.41347765e-48 5.65391061e-49\n",
            " 2.26156424e-49 9.04625697e-50 3.61850279e-50 1.44740112e-50\n",
            " 5.78960446e-51 2.31584178e-51 9.26336714e-52 3.70534686e-52\n",
            " 1.48213874e-52 5.92855497e-53 2.37142199e-53 9.48568795e-54\n",
            " 3.79427518e-54 1.51771007e-54 6.07084029e-55 2.42833612e-55\n",
            " 9.71334446e-56 3.88533778e-56 1.55413511e-56 6.21654046e-57\n",
            " 2.48661618e-57 9.94646473e-58 3.97858589e-58 1.59143436e-58\n",
            " 6.36573743e-59 2.54629497e-59 1.01851799e-59]\n"
          ]
        },
        {
          "output_type": "display_data",
          "data": {
            "text/plain": [
              "<Figure size 432x288 with 1 Axes>"
            ],
            "image/png": "[encoded data removed]"
          },
          "metadata": {
            "needs_background": "light"
          }
        }
      ],
      "source": [
        "import numpy as np\n",
        "import matplotlib.pyplot as plt\n",
        "\n",
        "# 目標函數:y=x^2\n",
        "def func(x): return np.square(x)\n",
        "\n",
        "# 目標函數一階導數:dy/dx=2*x\n",
        "def dfunc(x): return 2 * x\n",
        "\n",
        "def GD(x_start, df, epochs, lr):    \n",
        "    \"\"\"  梯度下降法。給定起始點與目標函數的一階導函數，求在epochs次反覆運算中x的更新值\n",
        "        :param x_start: x的起始點    \n",
        "        :param df: 目標函數的一階導函數    \n",
        "        :param epochs: 反覆運算週期    \n",
        "        :param lr: 學習率    \n",
        "        :return: x在每次反覆運算後的位置（包括起始點），長度為epochs+1    \n",
        "     \"\"\"    \n",
        "     #梯度下降法所要解決的，沿著梯度方向最小化\n",
        "    xs = np.zeros(epochs+1)    \n",
        "    x = x_start    \n",
        "    xs[0] = x    \n",
        "    for i in range(epochs):         \n",
        "        dx = df(x)        \n",
        "        # v表示x要改變的幅度        \n",
        "        v = - dx * lr        \n",
        "        x += v        \n",
        "        xs[i+1] = x    \n",
        "    return xs\n",
        "\n",
        "# Main\n",
        "# 起始權重\n",
        "x_start = 5    \n",
        "# 執行週期數\n",
        "epochs = 150 \n",
        "# 學習率   \n",
        "lr = 0.3   \n",
        "# 梯度下降法 \n",
        "x = GD(x_start, dfunc, epochs, lr=lr) \n",
        "print (x)\n",
        "# 輸出：[-5.     -2.     -0.8    -0.32   -0.128  -0.0512]\n",
        "\n",
        "color = 'r'    \n",
        "#plt.plot(line_x, line_y, c='b')    \n",
        "from numpy import arange\n",
        "t = arange(-6.0, 6.0, 0.01)\n",
        "plt.plot(t, func(t), c='b')\n",
        "plt.plot(x, func(x), c=color, label='lr={}'.format(lr))    \n",
        "plt.scatter(x, func(x), c=color, )    \n",
        "plt.legend()\n",
        "\n",
        "plt.show()"
      ]
    }
  ]
}